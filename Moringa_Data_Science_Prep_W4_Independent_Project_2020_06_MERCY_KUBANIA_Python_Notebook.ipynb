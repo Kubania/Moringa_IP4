{
  "nbformat": 4,
  "nbformat_minor": 0,
  "metadata": {
    "colab": {
      "name": "Moringa_Data_Science_Prep_W4_Independent_Project_2020_06_MERCY_KUBANIA_Python_Notebook.ipynb",
      "provenance": [],
      "toc_visible": true,
      "authorship_tag": "ABX9TyO3NFsPgyBDQVmP+ipDRQmP",
      "include_colab_link": true
    },
    "kernelspec": {
      "name": "python3",
      "display_name": "Python 3"
    }
  },
  "cells": [
    {
      "cell_type": "markdown",
      "metadata": {
        "id": "view-in-github",
        "colab_type": "text"
      },
      "source": [
        "<a href=\"https://colab.research.google.com/github/Kubania/Moringa_IP4/blob/master/Moringa_Data_Science_Prep_W4_Independent_Project_2020_06_MERCY_KUBANIA_Python_Notebook.ipynb\" target=\"_parent\"><img src=\"https://colab.research.google.com/assets/colab-badge.svg\" alt=\"Open In Colab\"/></a>"
      ]
    },
    {
      "cell_type": "markdown",
      "metadata": {
        "id": "7aaxTi0ZHZKu",
        "colab_type": "text"
      },
      "source": [
        "# Load the Dataset"
      ]
    },
    {
      "cell_type": "code",
      "metadata": {
        "id": "z9IPegGKHVZb",
        "colab_type": "code",
        "colab": {}
      },
      "source": [
        "#import pandas and numpy libraries\n",
        "import pandas as pd\n",
        "import numpy as np"
      ],
      "execution_count": 0,
      "outputs": []
    },
    {
      "cell_type": "code",
      "metadata": {
        "id": "i0QgNqz9IJjj",
        "colab_type": "code",
        "colab": {}
      },
      "source": [
        "# load the dataset\n",
        "ecars = pd.read_csv('/content/Autolib_dataset.csv')"
      ],
      "execution_count": 0,
      "outputs": []
    },
    {
      "cell_type": "markdown",
      "metadata": {
        "id": "50DQ-WURHg24",
        "colab_type": "text"
      },
      "source": [
        "# Exploration"
      ]
    },
    {
      "cell_type": "code",
      "metadata": {
        "id": "ucPIehKlK7OT",
        "colab_type": "code",
        "outputId": "0ea82726-7a3d-48ad-c028-72d48df6f50b",
        "colab": {
          "base_uri": "https://localhost:8080/",
          "height": 428
        }
      },
      "source": [
        "ecars.tail()"
      ],
      "execution_count": 0,
      "outputs": [
        {
          "output_type": "execute_result",
          "data": {
            "text/html": [
              "<div>\n",
              "<style scoped>\n",
              "    .dataframe tbody tr th:only-of-type {\n",
              "        vertical-align: middle;\n",
              "    }\n",
              "\n",
              "    .dataframe tbody tr th {\n",
              "        vertical-align: top;\n",
              "    }\n",
              "\n",
              "    .dataframe thead th {\n",
              "        text-align: right;\n",
              "    }\n",
              "</style>\n",
              "<table border=\"1\" class=\"dataframe\">\n",
              "  <thead>\n",
              "    <tr style=\"text-align: right;\">\n",
              "      <th></th>\n",
              "      <th>Address</th>\n",
              "      <th>Cars</th>\n",
              "      <th>Bluecar counter</th>\n",
              "      <th>Utilib counter</th>\n",
              "      <th>Utilib 1.4 counter</th>\n",
              "      <th>Charge Slots</th>\n",
              "      <th>Charging Status</th>\n",
              "      <th>City</th>\n",
              "      <th>Displayed comment</th>\n",
              "      <th>ID</th>\n",
              "      <th>Kind</th>\n",
              "      <th>Geo point</th>\n",
              "      <th>Postal code</th>\n",
              "      <th>Public name</th>\n",
              "      <th>Rental status</th>\n",
              "      <th>Scheduled at</th>\n",
              "      <th>Slots</th>\n",
              "      <th>Station type</th>\n",
              "      <th>Status</th>\n",
              "      <th>Subscription status</th>\n",
              "      <th>year</th>\n",
              "      <th>month</th>\n",
              "      <th>day</th>\n",
              "      <th>hour</th>\n",
              "      <th>minute</th>\n",
              "    </tr>\n",
              "  </thead>\n",
              "  <tbody>\n",
              "    <tr>\n",
              "      <th>4995</th>\n",
              "      <td>Quai de SÃ¨vres</td>\n",
              "      <td>0</td>\n",
              "      <td>0</td>\n",
              "      <td>0</td>\n",
              "      <td>0</td>\n",
              "      <td>0</td>\n",
              "      <td>nonexistent</td>\n",
              "      <td>SÃ¨vres</td>\n",
              "      <td>NaN</td>\n",
              "      <td>sevres-manufacturenationale-1</td>\n",
              "      <td>PARKING</td>\n",
              "      <td>48.82829, 2.22518</td>\n",
              "      <td>92310</td>\n",
              "      <td>SÃ¨vres/Manufacture Nationale/1</td>\n",
              "      <td>operational</td>\n",
              "      <td>NaN</td>\n",
              "      <td>6</td>\n",
              "      <td>station</td>\n",
              "      <td>ok</td>\n",
              "      <td>nonexistent</td>\n",
              "      <td>2018</td>\n",
              "      <td>4</td>\n",
              "      <td>5</td>\n",
              "      <td>1</td>\n",
              "      <td>28</td>\n",
              "    </tr>\n",
              "    <tr>\n",
              "      <th>4996</th>\n",
              "      <td>Quai de SÃ¨vres</td>\n",
              "      <td>0</td>\n",
              "      <td>0</td>\n",
              "      <td>0</td>\n",
              "      <td>0</td>\n",
              "      <td>0</td>\n",
              "      <td>nonexistent</td>\n",
              "      <td>SÃ¨vres</td>\n",
              "      <td>NaN</td>\n",
              "      <td>sevres-manufacturenationale-1</td>\n",
              "      <td>PARKING</td>\n",
              "      <td>48.82829, 2.22518</td>\n",
              "      <td>92310</td>\n",
              "      <td>SÃ¨vres/Manufacture Nationale/1</td>\n",
              "      <td>operational</td>\n",
              "      <td>NaN</td>\n",
              "      <td>5</td>\n",
              "      <td>station</td>\n",
              "      <td>ok</td>\n",
              "      <td>nonexistent</td>\n",
              "      <td>2018</td>\n",
              "      <td>4</td>\n",
              "      <td>5</td>\n",
              "      <td>7</td>\n",
              "      <td>44</td>\n",
              "    </tr>\n",
              "    <tr>\n",
              "      <th>4997</th>\n",
              "      <td>Quai de SÃ¨vres</td>\n",
              "      <td>4</td>\n",
              "      <td>4</td>\n",
              "      <td>1</td>\n",
              "      <td>0</td>\n",
              "      <td>0</td>\n",
              "      <td>nonexistent</td>\n",
              "      <td>SÃ¨vres</td>\n",
              "      <td>NaN</td>\n",
              "      <td>sevres-manufacturenationale-1</td>\n",
              "      <td>PARKING</td>\n",
              "      <td>48.82829, 2.22518</td>\n",
              "      <td>92310</td>\n",
              "      <td>SÃ¨vres/Manufacture Nationale/1</td>\n",
              "      <td>operational</td>\n",
              "      <td>NaN</td>\n",
              "      <td>1</td>\n",
              "      <td>station</td>\n",
              "      <td>ok</td>\n",
              "      <td>nonexistent</td>\n",
              "      <td>2018</td>\n",
              "      <td>4</td>\n",
              "      <td>2</td>\n",
              "      <td>2</td>\n",
              "      <td>23</td>\n",
              "    </tr>\n",
              "    <tr>\n",
              "      <th>4998</th>\n",
              "      <td>Quai de SÃ¨vres</td>\n",
              "      <td>0</td>\n",
              "      <td>0</td>\n",
              "      <td>0</td>\n",
              "      <td>0</td>\n",
              "      <td>0</td>\n",
              "      <td>nonexistent</td>\n",
              "      <td>SÃ¨vres</td>\n",
              "      <td>NaN</td>\n",
              "      <td>sevres-manufacturenationale-1</td>\n",
              "      <td>PARKING</td>\n",
              "      <td>48.82829, 2.22518</td>\n",
              "      <td>92310</td>\n",
              "      <td>SÃ¨vres/Manufacture Nationale/1</td>\n",
              "      <td>operational</td>\n",
              "      <td>NaN</td>\n",
              "      <td>6</td>\n",
              "      <td>station</td>\n",
              "      <td>ok</td>\n",
              "      <td>nonexistent</td>\n",
              "      <td>2018</td>\n",
              "      <td>4</td>\n",
              "      <td>4</td>\n",
              "      <td>5</td>\n",
              "      <td>16</td>\n",
              "    </tr>\n",
              "    <tr>\n",
              "      <th>4999</th>\n",
              "      <td>Quai de SÃ¨vres</td>\n",
              "      <td>6</td>\n",
              "      <td>6</td>\n",
              "      <td>0</td>\n",
              "      <td>0</td>\n",
              "      <td>0</td>\n",
              "      <td>nonexistent</td>\n",
              "      <td>SÃ¨vres</td>\n",
              "      <td>NaN</td>\n",
              "      <td>sevres-manufacturenationale-1</td>\n",
              "      <td>PARKING</td>\n",
              "      <td>48.82829, 2.22518</td>\n",
              "      <td>92310</td>\n",
              "      <td>SÃ¨vres/Manufacture Nationale/1</td>\n",
              "      <td>operational</td>\n",
              "      <td>NaN</td>\n",
              "      <td>0</td>\n",
              "      <td>station</td>\n",
              "      <td>ok</td>\n",
              "      <td>nonexistent</td>\n",
              "      <td>2018</td>\n",
              "      <td>4</td>\n",
              "      <td>7</td>\n",
              "      <td>16</td>\n",
              "      <td>31</td>\n",
              "    </tr>\n",
              "  </tbody>\n",
              "</table>\n",
              "</div>"
            ],
            "text/plain": [
              "              Address  Cars  Bluecar counter  ...  day  hour  minute\n",
              "4995  Quai de SÃ¨vres     0                0  ...    5     1      28\n",
              "4996  Quai de SÃ¨vres     0                0  ...    5     7      44\n",
              "4997  Quai de SÃ¨vres     4                4  ...    2     2      23\n",
              "4998  Quai de SÃ¨vres     0                0  ...    4     5      16\n",
              "4999  Quai de SÃ¨vres     6                6  ...    7    16      31\n",
              "\n",
              "[5 rows x 25 columns]"
            ]
          },
          "metadata": {
            "tags": []
          },
          "execution_count": 6
        }
      ]
    },
    {
      "cell_type": "code",
      "metadata": {
        "id": "eLN9joPJLNTP",
        "colab_type": "code",
        "outputId": "d21e2bd8-f7b3-400d-e470-71323cca915f",
        "colab": {
          "base_uri": "https://localhost:8080/",
          "height": 34
        }
      },
      "source": [
        "ecars.shape"
      ],
      "execution_count": 0,
      "outputs": [
        {
          "output_type": "execute_result",
          "data": {
            "text/plain": [
              "(5000, 25)"
            ]
          },
          "metadata": {
            "tags": []
          },
          "execution_count": 7
        }
      ]
    },
    {
      "cell_type": "code",
      "metadata": {
        "id": "rjvKJbkyLCe5",
        "colab_type": "code",
        "outputId": "6db56025-3fe5-4958-eb94-d19680150d7f",
        "colab": {
          "base_uri": "https://localhost:8080/",
          "height": 561
        }
      },
      "source": [
        "ecars.info()"
      ],
      "execution_count": 0,
      "outputs": [
        {
          "output_type": "stream",
          "text": [
            "<class 'pandas.core.frame.DataFrame'>\n",
            "RangeIndex: 5000 entries, 0 to 4999\n",
            "Data columns (total 25 columns):\n",
            " #   Column               Non-Null Count  Dtype \n",
            "---  ------               --------------  ----- \n",
            " 0   Address              5000 non-null   object\n",
            " 1   Cars                 5000 non-null   int64 \n",
            " 2   Bluecar counter      5000 non-null   int64 \n",
            " 3   Utilib counter       5000 non-null   int64 \n",
            " 4   Utilib 1.4 counter   5000 non-null   int64 \n",
            " 5   Charge Slots         5000 non-null   int64 \n",
            " 6   Charging Status      5000 non-null   object\n",
            " 7   City                 5000 non-null   object\n",
            " 8   Displayed comment    111 non-null    object\n",
            " 9   ID                   5000 non-null   object\n",
            " 10  Kind                 5000 non-null   object\n",
            " 11  Geo point            5000 non-null   object\n",
            " 12  Postal code          5000 non-null   int64 \n",
            " 13  Public name          5000 non-null   object\n",
            " 14  Rental status        5000 non-null   object\n",
            " 15  Scheduled at         47 non-null     object\n",
            " 16  Slots                5000 non-null   int64 \n",
            " 17  Station type         5000 non-null   object\n",
            " 18  Status               5000 non-null   object\n",
            " 19  Subscription status  5000 non-null   object\n",
            " 20  year                 5000 non-null   int64 \n",
            " 21  month                5000 non-null   int64 \n",
            " 22  day                  5000 non-null   int64 \n",
            " 23  hour                 5000 non-null   int64 \n",
            " 24  minute               5000 non-null   int64 \n",
            "dtypes: int64(12), object(13)\n",
            "memory usage: 976.7+ KB\n"
          ],
          "name": "stdout"
        }
      ]
    },
    {
      "cell_type": "markdown",
      "metadata": {
        "id": "1e9o8zE1HnIR",
        "colab_type": "text"
      },
      "source": [
        "# Data Cleaning"
      ]
    },
    {
      "cell_type": "markdown",
      "metadata": {
        "id": "l8PtXWfNcAVZ",
        "colab_type": "text"
      },
      "source": [
        "**Validity**"
      ]
    },
    {
      "cell_type": "code",
      "metadata": {
        "id": "a8o3t51-LVkn",
        "colab_type": "code",
        "colab": {}
      },
      "source": [
        "# Drop columns not needed for analysis\n",
        "ecars.drop([\"Geo point\",\"Public name\",\"Displayed comment\"],axis = 1, inplace= True)"
      ],
      "execution_count": 0,
      "outputs": []
    },
    {
      "cell_type": "code",
      "metadata": {
        "id": "5d3jgfZAWvBZ",
        "colab_type": "code",
        "outputId": "b176459f-9120-4e00-d04e-04e2c04974e7",
        "colab": {
          "base_uri": "https://localhost:8080/",
          "height": 34
        }
      },
      "source": [
        "#Remove syntax errors: Description states Charging status has some typos \n",
        "#no typos\n",
        "ecars['Charging Status'].unique()"
      ],
      "execution_count": 0,
      "outputs": [
        {
          "output_type": "execute_result",
          "data": {
            "text/plain": [
              "array(['nonexistent', 'operational', 'broken'], dtype=object)"
            ]
          },
          "metadata": {
            "tags": []
          },
          "execution_count": 10
        }
      ]
    },
    {
      "cell_type": "code",
      "metadata": {
        "id": "N_Rdf5SNadSx",
        "colab_type": "code",
        "colab": {}
      },
      "source": [
        "#Remove all whitespaces\n",
        "for x in ecars.columns:\n",
        "  if ecars[x].dtypes == 'object':\n",
        "    ecars[x].str.strip()"
      ],
      "execution_count": 0,
      "outputs": []
    },
    {
      "cell_type": "markdown",
      "metadata": {
        "id": "LB8ep1N7cFgj",
        "colab_type": "text"
      },
      "source": [
        "**Completeness**"
      ]
    },
    {
      "cell_type": "code",
      "metadata": {
        "id": "Q-D0lfLyb8xo",
        "colab_type": "code",
        "outputId": "ef7afe84-ba8b-4e33-af8b-300effe86715",
        "colab": {
          "base_uri": "https://localhost:8080/",
          "height": 408
        }
      },
      "source": [
        "# check for null values\n",
        "ecars.isnull().any()"
      ],
      "execution_count": 0,
      "outputs": [
        {
          "output_type": "execute_result",
          "data": {
            "text/plain": [
              "Address                False\n",
              "Cars                   False\n",
              "Bluecar counter        False\n",
              "Utilib counter         False\n",
              "Utilib 1.4 counter     False\n",
              "Charge Slots           False\n",
              "Charging Status        False\n",
              "City                   False\n",
              "ID                     False\n",
              "Kind                   False\n",
              "Postal code            False\n",
              "Rental status          False\n",
              "Scheduled at            True\n",
              "Slots                  False\n",
              "Station type           False\n",
              "Status                 False\n",
              "Subscription status    False\n",
              "year                   False\n",
              "month                  False\n",
              "day                    False\n",
              "hour                   False\n",
              "minute                 False\n",
              "dtype: bool"
            ]
          },
          "metadata": {
            "tags": []
          },
          "execution_count": 12
        }
      ]
    },
    {
      "cell_type": "code",
      "metadata": {
        "id": "LIx13hWydeg4",
        "colab_type": "code",
        "colab": {}
      },
      "source": [
        "# Has 47 out 5000 records\n",
        "ecars.drop('Scheduled at',axis =1 , inplace= True)"
      ],
      "execution_count": 0,
      "outputs": []
    },
    {
      "cell_type": "code",
      "metadata": {
        "id": "3Ca5pMJDekmY",
        "colab_type": "code",
        "colab": {}
      },
      "source": [
        "# Drop row where column with 'status' is future because the scheduled at corresponds to the [column] = future\n",
        "#future are stations that are not in operation\n",
        "#has future and drop by index\n",
        "future = ecars[ecars['Rental status'] == 'future'].index\n",
        "ecars.drop(future,inplace=True)"
      ],
      "execution_count": 0,
      "outputs": []
    },
    {
      "cell_type": "code",
      "metadata": {
        "id": "x-oH8FLMWc43",
        "colab_type": "code",
        "colab": {}
      },
      "source": [
        "# Drop rows where rental status is not operational\n",
        "non_op = ecars[ecars['Rental status'] != 'operational'].index\n",
        "ecars.drop(non_op,inplace= True)"
      ],
      "execution_count": 0,
      "outputs": []
    },
    {
      "cell_type": "code",
      "metadata": {
        "id": "R3QZApVygkew",
        "colab_type": "code",
        "outputId": "40205e28-13e7-4d3e-bc23-95013643afa6",
        "colab": {
          "base_uri": "https://localhost:8080/",
          "height": 391
        }
      },
      "source": [
        "ecars.isnull().any()"
      ],
      "execution_count": 0,
      "outputs": [
        {
          "output_type": "execute_result",
          "data": {
            "text/plain": [
              "Address                False\n",
              "Cars                   False\n",
              "Bluecar counter        False\n",
              "Utilib counter         False\n",
              "Utilib 1.4 counter     False\n",
              "Charge Slots           False\n",
              "Charging Status        False\n",
              "City                   False\n",
              "ID                     False\n",
              "Kind                   False\n",
              "Postal code            False\n",
              "Rental status          False\n",
              "Slots                  False\n",
              "Station type           False\n",
              "Status                 False\n",
              "Subscription status    False\n",
              "year                   False\n",
              "month                  False\n",
              "day                    False\n",
              "hour                   False\n",
              "minute                 False\n",
              "dtype: bool"
            ]
          },
          "metadata": {
            "tags": []
          },
          "execution_count": 16
        }
      ]
    },
    {
      "cell_type": "code",
      "metadata": {
        "id": "zeSd2MpQFfM7",
        "colab_type": "code",
        "outputId": "93c63f15-42fd-4e1a-8302-5f74322bda00",
        "colab": {
          "base_uri": "https://localhost:8080/",
          "height": 493
        }
      },
      "source": [
        "ecars.info()"
      ],
      "execution_count": 0,
      "outputs": [
        {
          "output_type": "stream",
          "text": [
            "<class 'pandas.core.frame.DataFrame'>\n",
            "Int64Index: 4618 entries, 0 to 4999\n",
            "Data columns (total 21 columns):\n",
            " #   Column               Non-Null Count  Dtype \n",
            "---  ------               --------------  ----- \n",
            " 0   Address              4618 non-null   object\n",
            " 1   Cars                 4618 non-null   int64 \n",
            " 2   Bluecar counter      4618 non-null   int64 \n",
            " 3   Utilib counter       4618 non-null   int64 \n",
            " 4   Utilib 1.4 counter   4618 non-null   int64 \n",
            " 5   Charge Slots         4618 non-null   int64 \n",
            " 6   Charging Status      4618 non-null   object\n",
            " 7   City                 4618 non-null   object\n",
            " 8   ID                   4618 non-null   object\n",
            " 9   Kind                 4618 non-null   object\n",
            " 10  Postal code          4618 non-null   int64 \n",
            " 11  Rental status        4618 non-null   object\n",
            " 12  Slots                4618 non-null   int64 \n",
            " 13  Station type         4618 non-null   object\n",
            " 14  Status               4618 non-null   object\n",
            " 15  Subscription status  4618 non-null   object\n",
            " 16  year                 4618 non-null   int64 \n",
            " 17  month                4618 non-null   int64 \n",
            " 18  day                  4618 non-null   int64 \n",
            " 19  hour                 4618 non-null   int64 \n",
            " 20  minute               4618 non-null   int64 \n",
            "dtypes: int64(12), object(9)\n",
            "memory usage: 793.7+ KB\n"
          ],
          "name": "stdout"
        }
      ]
    },
    {
      "cell_type": "markdown",
      "metadata": {
        "id": "_AZlQq5dhAQG",
        "colab_type": "text"
      },
      "source": [
        " ***Consistency***"
      ]
    },
    {
      "cell_type": "code",
      "metadata": {
        "id": "eXUm2TmwhDJ0",
        "colab_type": "code",
        "outputId": "739f4f81-3d33-4851-db0e-2496440c5ca6",
        "colab": {
          "base_uri": "https://localhost:8080/",
          "height": 34
        }
      },
      "source": [
        "#check for duplicates\n",
        "ecars.duplicated().any()"
      ],
      "execution_count": 0,
      "outputs": [
        {
          "output_type": "execute_result",
          "data": {
            "text/plain": [
              "False"
            ]
          },
          "metadata": {
            "tags": []
          },
          "execution_count": 18
        }
      ]
    },
    {
      "cell_type": "markdown",
      "metadata": {
        "id": "eenlJE2bhND6",
        "colab_type": "text"
      },
      "source": [
        "**Uniformity**"
      ]
    },
    {
      "cell_type": "code",
      "metadata": {
        "id": "yPBYVhL6hKpB",
        "colab_type": "code",
        "outputId": "65bbd3d2-209a-49fd-fbd7-9157b2f5c0e5",
        "colab": {
          "base_uri": "https://localhost:8080/",
          "height": 119
        }
      },
      "source": [
        "#Fix messy columns\n",
        "ecars.columns = ecars.columns.str.strip().str.replace(\" \",\"_\").str.lower()\n",
        "ecars.columns"
      ],
      "execution_count": 0,
      "outputs": [
        {
          "output_type": "execute_result",
          "data": {
            "text/plain": [
              "Index(['address', 'cars', 'bluecar_counter', 'utilib_counter',\n",
              "       'utilib_1.4_counter', 'charge_slots', 'charging_status', 'city', 'id',\n",
              "       'kind', 'postal_code', 'rental_status', 'slots', 'station_type',\n",
              "       'status', 'subscription_status', 'year', 'month', 'day', 'hour',\n",
              "       'minute'],\n",
              "      dtype='object')"
            ]
          },
          "metadata": {
            "tags": []
          },
          "execution_count": 19
        }
      ]
    },
    {
      "cell_type": "code",
      "metadata": {
        "id": "TKEGVTqDhs6c",
        "colab_type": "code",
        "colab": {}
      },
      "source": [
        "# Data type conversation\n",
        "ecars['datetime'] = pd.to_datetime(ecars[['year','month','day','hour','minute']])"
      ],
      "execution_count": 0,
      "outputs": []
    },
    {
      "cell_type": "code",
      "metadata": {
        "id": "K0K2vM1zoBhz",
        "colab_type": "code",
        "outputId": "60186f08-759c-409c-81e5-740765c080f2",
        "colab": {
          "base_uri": "https://localhost:8080/",
          "height": 510
        }
      },
      "source": [
        "ecars.info()"
      ],
      "execution_count": 0,
      "outputs": [
        {
          "output_type": "stream",
          "text": [
            "<class 'pandas.core.frame.DataFrame'>\n",
            "Int64Index: 4618 entries, 0 to 4999\n",
            "Data columns (total 22 columns):\n",
            " #   Column               Non-Null Count  Dtype         \n",
            "---  ------               --------------  -----         \n",
            " 0   address              4618 non-null   object        \n",
            " 1   cars                 4618 non-null   int64         \n",
            " 2   bluecar_counter      4618 non-null   int64         \n",
            " 3   utilib_counter       4618 non-null   int64         \n",
            " 4   utilib_1.4_counter   4618 non-null   int64         \n",
            " 5   charge_slots         4618 non-null   int64         \n",
            " 6   charging_status      4618 non-null   object        \n",
            " 7   city                 4618 non-null   object        \n",
            " 8   id                   4618 non-null   object        \n",
            " 9   kind                 4618 non-null   object        \n",
            " 10  postal_code          4618 non-null   int64         \n",
            " 11  rental_status        4618 non-null   object        \n",
            " 12  slots                4618 non-null   int64         \n",
            " 13  station_type         4618 non-null   object        \n",
            " 14  status               4618 non-null   object        \n",
            " 15  subscription_status  4618 non-null   object        \n",
            " 16  year                 4618 non-null   int64         \n",
            " 17  month                4618 non-null   int64         \n",
            " 18  day                  4618 non-null   int64         \n",
            " 19  hour                 4618 non-null   int64         \n",
            " 20  minute               4618 non-null   int64         \n",
            " 21  datetime             4618 non-null   datetime64[ns]\n",
            "dtypes: datetime64[ns](1), int64(12), object(9)\n",
            "memory usage: 829.8+ KB\n"
          ],
          "name": "stdout"
        }
      ]
    },
    {
      "cell_type": "markdown",
      "metadata": {
        "id": "hvxFIEWH6FZR",
        "colab_type": "text"
      },
      "source": [
        "Export to csv file"
      ]
    },
    {
      "cell_type": "code",
      "metadata": {
        "id": "R2o5E0nN6DnT",
        "colab_type": "code",
        "colab": {}
      },
      "source": [
        "ecars.to_csv('clean_ecars.csv')"
      ],
      "execution_count": 0,
      "outputs": []
    },
    {
      "cell_type": "markdown",
      "metadata": {
        "colab_type": "text",
        "id": "wKaW8Aw5974d"
      },
      "source": [
        "# **Analysis of the Data**"
      ]
    },
    {
      "cell_type": "markdown",
      "metadata": {
        "id": "UMvDZzsutxzM",
        "colab_type": "text"
      },
      "source": [
        "### **Bluecars**"
      ]
    },
    {
      "cell_type": "code",
      "metadata": {
        "id": "MEVdTjQTt0ih",
        "colab_type": "code",
        "colab": {}
      },
      "source": [
        "#The dataset for bluecars\n",
        "ecars = pd.read_csv('/content/clean_ecars.csv')"
      ],
      "execution_count": 0,
      "outputs": []
    },
    {
      "cell_type": "code",
      "metadata": {
        "id": "hypFBtrvb9fp",
        "colab_type": "code",
        "outputId": "b6942aa8-36c4-4930-ae39-8004ad0e0a71",
        "colab": {
          "base_uri": "https://localhost:8080/",
          "height": 419
        }
      },
      "source": [
        "ecars1 = ecars[['city','address','bluecar_counter','slots','postal_code','hour']]\n",
        "ecars1"
      ],
      "execution_count": 83,
      "outputs": [
        {
          "output_type": "execute_result",
          "data": {
            "text/html": [
              "<div>\n",
              "<style scoped>\n",
              "    .dataframe tbody tr th:only-of-type {\n",
              "        vertical-align: middle;\n",
              "    }\n",
              "\n",
              "    .dataframe tbody tr th {\n",
              "        vertical-align: top;\n",
              "    }\n",
              "\n",
              "    .dataframe thead th {\n",
              "        text-align: right;\n",
              "    }\n",
              "</style>\n",
              "<table border=\"1\" class=\"dataframe\">\n",
              "  <thead>\n",
              "    <tr style=\"text-align: right;\">\n",
              "      <th></th>\n",
              "      <th>city</th>\n",
              "      <th>address</th>\n",
              "      <th>bluecar_counter</th>\n",
              "      <th>slots</th>\n",
              "      <th>postal_code</th>\n",
              "      <th>hour</th>\n",
              "    </tr>\n",
              "  </thead>\n",
              "  <tbody>\n",
              "    <tr>\n",
              "      <th>0</th>\n",
              "      <td>Nanterre</td>\n",
              "      <td>1 allÃ©e de Gascogne</td>\n",
              "      <td>6</td>\n",
              "      <td>0</td>\n",
              "      <td>92000</td>\n",
              "      <td>9</td>\n",
              "    </tr>\n",
              "    <tr>\n",
              "      <th>1</th>\n",
              "      <td>Colombes</td>\n",
              "      <td>1 allÃ©e Parc LagravÃ¨re</td>\n",
              "      <td>3</td>\n",
              "      <td>4</td>\n",
              "      <td>92700</td>\n",
              "      <td>22</td>\n",
              "    </tr>\n",
              "    <tr>\n",
              "      <th>2</th>\n",
              "      <td>Colombes</td>\n",
              "      <td>1 allÃ©e Parc LagravÃ¨re</td>\n",
              "      <td>4</td>\n",
              "      <td>2</td>\n",
              "      <td>92700</td>\n",
              "      <td>16</td>\n",
              "    </tr>\n",
              "    <tr>\n",
              "      <th>3</th>\n",
              "      <td>Colombes</td>\n",
              "      <td>1 allÃ©e Parc LagravÃ¨re</td>\n",
              "      <td>6</td>\n",
              "      <td>1</td>\n",
              "      <td>92700</td>\n",
              "      <td>11</td>\n",
              "    </tr>\n",
              "    <tr>\n",
              "      <th>4</th>\n",
              "      <td>Colombes</td>\n",
              "      <td>1 allÃ©e Parc LagravÃ¨re</td>\n",
              "      <td>7</td>\n",
              "      <td>0</td>\n",
              "      <td>92700</td>\n",
              "      <td>12</td>\n",
              "    </tr>\n",
              "    <tr>\n",
              "      <th>...</th>\n",
              "      <td>...</td>\n",
              "      <td>...</td>\n",
              "      <td>...</td>\n",
              "      <td>...</td>\n",
              "      <td>...</td>\n",
              "      <td>...</td>\n",
              "    </tr>\n",
              "    <tr>\n",
              "      <th>4613</th>\n",
              "      <td>SÃ¨vres</td>\n",
              "      <td>Quai de SÃ¨vres</td>\n",
              "      <td>0</td>\n",
              "      <td>6</td>\n",
              "      <td>92310</td>\n",
              "      <td>1</td>\n",
              "    </tr>\n",
              "    <tr>\n",
              "      <th>4614</th>\n",
              "      <td>SÃ¨vres</td>\n",
              "      <td>Quai de SÃ¨vres</td>\n",
              "      <td>0</td>\n",
              "      <td>5</td>\n",
              "      <td>92310</td>\n",
              "      <td>7</td>\n",
              "    </tr>\n",
              "    <tr>\n",
              "      <th>4615</th>\n",
              "      <td>SÃ¨vres</td>\n",
              "      <td>Quai de SÃ¨vres</td>\n",
              "      <td>4</td>\n",
              "      <td>1</td>\n",
              "      <td>92310</td>\n",
              "      <td>2</td>\n",
              "    </tr>\n",
              "    <tr>\n",
              "      <th>4616</th>\n",
              "      <td>SÃ¨vres</td>\n",
              "      <td>Quai de SÃ¨vres</td>\n",
              "      <td>0</td>\n",
              "      <td>6</td>\n",
              "      <td>92310</td>\n",
              "      <td>5</td>\n",
              "    </tr>\n",
              "    <tr>\n",
              "      <th>4617</th>\n",
              "      <td>SÃ¨vres</td>\n",
              "      <td>Quai de SÃ¨vres</td>\n",
              "      <td>6</td>\n",
              "      <td>0</td>\n",
              "      <td>92310</td>\n",
              "      <td>16</td>\n",
              "    </tr>\n",
              "  </tbody>\n",
              "</table>\n",
              "<p>4618 rows × 6 columns</p>\n",
              "</div>"
            ],
            "text/plain": [
              "          city                   address  ...  postal_code  hour\n",
              "0     Nanterre      1 allÃ©e de Gascogne  ...        92000     9\n",
              "1     Colombes  1 allÃ©e Parc LagravÃ¨re  ...        92700    22\n",
              "2     Colombes  1 allÃ©e Parc LagravÃ¨re  ...        92700    16\n",
              "3     Colombes  1 allÃ©e Parc LagravÃ¨re  ...        92700    11\n",
              "4     Colombes  1 allÃ©e Parc LagravÃ¨re  ...        92700    12\n",
              "...        ...                       ...  ...          ...   ...\n",
              "4613   SÃ¨vres           Quai de SÃ¨vres  ...        92310     1\n",
              "4614   SÃ¨vres           Quai de SÃ¨vres  ...        92310     7\n",
              "4615   SÃ¨vres           Quai de SÃ¨vres  ...        92310     2\n",
              "4616   SÃ¨vres           Quai de SÃ¨vres  ...        92310     5\n",
              "4617   SÃ¨vres           Quai de SÃ¨vres  ...        92310    16\n",
              "\n",
              "[4618 rows x 6 columns]"
            ]
          },
          "metadata": {
            "tags": []
          },
          "execution_count": 83
        }
      ]
    },
    {
      "cell_type": "code",
      "metadata": {
        "id": "m-s_ApJgQN0w",
        "colab_type": "code",
        "outputId": "62dcd3bb-ea63-4a69-b2bf-5f2817712fab",
        "colab": {
          "base_uri": "https://localhost:8080/",
          "height": 85
        }
      },
      "source": [
        "# 1.What was the most popular hour of the day for picking up a shared electric car(Bluecar) in the city of Paris over the Month of April\n",
        "ecars1[(ecars1['bluecar_counter'] == 0) & (ecars1['city'] == 'Paris')]['hour'].value_counts().nlargest(3)"
      ],
      "execution_count": 84,
      "outputs": [
        {
          "output_type": "execute_result",
          "data": {
            "text/plain": [
              "23    42\n",
              "2     42\n",
              "16    42\n",
              "Name: hour, dtype: int64"
            ]
          },
          "metadata": {
            "tags": []
          },
          "execution_count": 84
        }
      ]
    },
    {
      "cell_type": "code",
      "metadata": {
        "id": "9D2u7F-K79tp",
        "colab_type": "code",
        "outputId": "8245de14-bd07-4ac1-f410-97bd8e54eb94",
        "colab": {
          "base_uri": "https://localhost:8080/",
          "height": 51
        }
      },
      "source": [
        "# 2. What is the most popular hour for returning cars\n",
        "ecars1[(ecars1['bluecar_counter']) & (ecars1['slots'] == 0)]['hour'].value_counts().nlargest(1)"
      ],
      "execution_count": 85,
      "outputs": [
        {
          "output_type": "execute_result",
          "data": {
            "text/plain": [
              "12    33\n",
              "Name: hour, dtype: int64"
            ]
          },
          "metadata": {
            "tags": []
          },
          "execution_count": 85
        }
      ]
    },
    {
      "cell_type": "code",
      "metadata": {
        "id": "do9i2x-P_qlG",
        "colab_type": "code",
        "outputId": "30be6ec3-c4db-404b-93f2-705411ada5e9",
        "colab": {
          "base_uri": "https://localhost:8080/",
          "height": 68
        }
      },
      "source": [
        "# 3.0 What station is the most popular. Overall?\n",
        "ecars.groupby(['address'])['address'].count().nlargest(1)"
      ],
      "execution_count": 86,
      "outputs": [
        {
          "output_type": "execute_result",
          "data": {
            "text/plain": [
              "address\n",
              "8 Avenue de la Porte de Montrouge    13\n",
              "Name: address, dtype: int64"
            ]
          },
          "metadata": {
            "tags": []
          },
          "execution_count": 86
        }
      ]
    },
    {
      "cell_type": "code",
      "metadata": {
        "id": "DuDqNqDnCa_y",
        "colab_type": "code",
        "outputId": "57527601-fbc0-4d4b-8e02-85c6e510a073",
        "colab": {
          "base_uri": "https://localhost:8080/",
          "height": 80
        }
      },
      "source": [
        "# 3.1 What station is the most popular, at the most popular picking hour?\n",
        "\n",
        "ecars[(ecars['bluecar_counter'] == 0) & (ecars['hour'].value_counts())].sort_values(by = 'hour')[['address','hour']].nlargest(1,'hour')"
      ],
      "execution_count": 87,
      "outputs": [
        {
          "output_type": "execute_result",
          "data": {
            "text/html": [
              "<div>\n",
              "<style scoped>\n",
              "    .dataframe tbody tr th:only-of-type {\n",
              "        vertical-align: middle;\n",
              "    }\n",
              "\n",
              "    .dataframe tbody tr th {\n",
              "        vertical-align: top;\n",
              "    }\n",
              "\n",
              "    .dataframe thead th {\n",
              "        text-align: right;\n",
              "    }\n",
              "</style>\n",
              "<table border=\"1\" class=\"dataframe\">\n",
              "  <thead>\n",
              "    <tr style=\"text-align: right;\">\n",
              "      <th></th>\n",
              "      <th>address</th>\n",
              "      <th>hour</th>\n",
              "    </tr>\n",
              "  </thead>\n",
              "  <tbody>\n",
              "    <tr>\n",
              "      <th>11</th>\n",
              "      <td>1 avenue Ãmile Laurent</td>\n",
              "      <td>14</td>\n",
              "    </tr>\n",
              "  </tbody>\n",
              "</table>\n",
              "</div>"
            ],
            "text/plain": [
              "                    address  hour\n",
              "11  1 avenue Ãmile Laurent    14"
            ]
          },
          "metadata": {
            "tags": []
          },
          "execution_count": 87
        }
      ]
    },
    {
      "cell_type": "code",
      "metadata": {
        "id": "t_hipMs3GNgE",
        "colab_type": "code",
        "outputId": "51ee8833-ba5a-4dc8-9ade-28bb80b897bb",
        "colab": {
          "base_uri": "https://localhost:8080/",
          "height": 68
        }
      },
      "source": [
        "\n",
        "# 4.0 What postal code is the most popular postal code, overall?\n",
        "ecars.groupby('postal_code')['postal_code'].count().nlargest(1)"
      ],
      "execution_count": 88,
      "outputs": [
        {
          "output_type": "execute_result",
          "data": {
            "text/plain": [
              "postal_code\n",
              "75015    249\n",
              "Name: postal_code, dtype: int64"
            ]
          },
          "metadata": {
            "tags": []
          },
          "execution_count": 88
        }
      ]
    },
    {
      "cell_type": "code",
      "metadata": {
        "id": "ngejCNjb15us",
        "colab_type": "code",
        "outputId": "6aba55b0-e809-4cf9-d475-017a255f6e37",
        "colab": {
          "base_uri": "https://localhost:8080/",
          "height": 68
        }
      },
      "source": [
        "# 4.0.1  Does the most popular station belong to that postal code\n",
        "ecars.groupby(['address','postal_code'])['postal_code'].count().sort_values(ascending =False).nlargest(1)\n",
        "                                                                                                           "
      ],
      "execution_count": 89,
      "outputs": [
        {
          "output_type": "execute_result",
          "data": {
            "text/plain": [
              "address                            postal_code\n",
              "8 Avenue de la Porte de Montrouge  75014          13\n",
              "Name: postal_code, dtype: int64"
            ]
          },
          "metadata": {
            "tags": []
          },
          "execution_count": 89
        }
      ]
    },
    {
      "cell_type": "code",
      "metadata": {
        "id": "jZXL7-lQKSiO",
        "colab_type": "code",
        "outputId": "04224394-211f-4ed9-99f7-aa319fae3cd1",
        "colab": {
          "base_uri": "https://localhost:8080/",
          "height": 80
        }
      },
      "source": [
        "# 4.1 What postal code is the most popular postal code, at the most popular picking hour?\n",
        "ecars[(ecars['bluecar_counter'] == 0)& (ecars['hour'].value_counts())][['postal_code','hour']].nlargest(1,'hour')"
      ],
      "execution_count": 90,
      "outputs": [
        {
          "output_type": "execute_result",
          "data": {
            "text/html": [
              "<div>\n",
              "<style scoped>\n",
              "    .dataframe tbody tr th:only-of-type {\n",
              "        vertical-align: middle;\n",
              "    }\n",
              "\n",
              "    .dataframe tbody tr th {\n",
              "        vertical-align: top;\n",
              "    }\n",
              "\n",
              "    .dataframe thead th {\n",
              "        text-align: right;\n",
              "    }\n",
              "</style>\n",
              "<table border=\"1\" class=\"dataframe\">\n",
              "  <thead>\n",
              "    <tr style=\"text-align: right;\">\n",
              "      <th></th>\n",
              "      <th>postal_code</th>\n",
              "      <th>hour</th>\n",
              "    </tr>\n",
              "  </thead>\n",
              "  <tbody>\n",
              "    <tr>\n",
              "      <th>11</th>\n",
              "      <td>75012</td>\n",
              "      <td>14</td>\n",
              "    </tr>\n",
              "  </tbody>\n",
              "</table>\n",
              "</div>"
            ],
            "text/plain": [
              "    postal_code  hour\n",
              "11        75012    14"
            ]
          },
          "metadata": {
            "tags": []
          },
          "execution_count": 90
        }
      ]
    },
    {
      "cell_type": "code",
      "metadata": {
        "id": "XFbyGCiczm-b",
        "colab_type": "code",
        "outputId": "88f08bbb-7939-4818-d9f3-8b2621c35a99",
        "colab": {
          "base_uri": "https://localhost:8080/",
          "height": 80
        }
      },
      "source": [
        "# 4.1.1  Does the most popular station belong to that postal code\n",
        "ecars[(ecars['bluecar_counter'] == 0)& (ecars['hour'].value_counts())][['address','postal_code','hour']].nlargest(1,'hour')"
      ],
      "execution_count": 91,
      "outputs": [
        {
          "output_type": "execute_result",
          "data": {
            "text/html": [
              "<div>\n",
              "<style scoped>\n",
              "    .dataframe tbody tr th:only-of-type {\n",
              "        vertical-align: middle;\n",
              "    }\n",
              "\n",
              "    .dataframe tbody tr th {\n",
              "        vertical-align: top;\n",
              "    }\n",
              "\n",
              "    .dataframe thead th {\n",
              "        text-align: right;\n",
              "    }\n",
              "</style>\n",
              "<table border=\"1\" class=\"dataframe\">\n",
              "  <thead>\n",
              "    <tr style=\"text-align: right;\">\n",
              "      <th></th>\n",
              "      <th>address</th>\n",
              "      <th>postal_code</th>\n",
              "      <th>hour</th>\n",
              "    </tr>\n",
              "  </thead>\n",
              "  <tbody>\n",
              "    <tr>\n",
              "      <th>11</th>\n",
              "      <td>1 avenue Ãmile Laurent</td>\n",
              "      <td>75012</td>\n",
              "      <td>14</td>\n",
              "    </tr>\n",
              "  </tbody>\n",
              "</table>\n",
              "</div>"
            ],
            "text/plain": [
              "                    address  postal_code  hour\n",
              "11  1 avenue Ãmile Laurent        75012    14"
            ]
          },
          "metadata": {
            "tags": []
          },
          "execution_count": 91
        }
      ]
    },
    {
      "cell_type": "markdown",
      "metadata": {
        "id": "aHdGEoV3ghzr",
        "colab_type": "text"
      },
      "source": [
        "### **Utilib**"
      ]
    },
    {
      "cell_type": "code",
      "metadata": {
        "id": "T-6hlf6YjjU8",
        "colab_type": "code",
        "colab": {
          "base_uri": "https://localhost:8080/",
          "height": 419
        },
        "outputId": "1237ee78-772f-45b4-b231-d7cd445c741f"
      },
      "source": [
        "ecars2 = ecars[['address','city','utilib_counter','postal_code','slots','hour']]\n",
        "ecars2"
      ],
      "execution_count": 95,
      "outputs": [
        {
          "output_type": "execute_result",
          "data": {
            "text/html": [
              "<div>\n",
              "<style scoped>\n",
              "    .dataframe tbody tr th:only-of-type {\n",
              "        vertical-align: middle;\n",
              "    }\n",
              "\n",
              "    .dataframe tbody tr th {\n",
              "        vertical-align: top;\n",
              "    }\n",
              "\n",
              "    .dataframe thead th {\n",
              "        text-align: right;\n",
              "    }\n",
              "</style>\n",
              "<table border=\"1\" class=\"dataframe\">\n",
              "  <thead>\n",
              "    <tr style=\"text-align: right;\">\n",
              "      <th></th>\n",
              "      <th>address</th>\n",
              "      <th>city</th>\n",
              "      <th>utilib_counter</th>\n",
              "      <th>postal_code</th>\n",
              "      <th>slots</th>\n",
              "      <th>hour</th>\n",
              "    </tr>\n",
              "  </thead>\n",
              "  <tbody>\n",
              "    <tr>\n",
              "      <th>0</th>\n",
              "      <td>1 allÃ©e de Gascogne</td>\n",
              "      <td>Nanterre</td>\n",
              "      <td>0</td>\n",
              "      <td>92000</td>\n",
              "      <td>0</td>\n",
              "      <td>9</td>\n",
              "    </tr>\n",
              "    <tr>\n",
              "      <th>1</th>\n",
              "      <td>1 allÃ©e Parc LagravÃ¨re</td>\n",
              "      <td>Colombes</td>\n",
              "      <td>0</td>\n",
              "      <td>92700</td>\n",
              "      <td>4</td>\n",
              "      <td>22</td>\n",
              "    </tr>\n",
              "    <tr>\n",
              "      <th>2</th>\n",
              "      <td>1 allÃ©e Parc LagravÃ¨re</td>\n",
              "      <td>Colombes</td>\n",
              "      <td>0</td>\n",
              "      <td>92700</td>\n",
              "      <td>2</td>\n",
              "      <td>16</td>\n",
              "    </tr>\n",
              "    <tr>\n",
              "      <th>3</th>\n",
              "      <td>1 allÃ©e Parc LagravÃ¨re</td>\n",
              "      <td>Colombes</td>\n",
              "      <td>0</td>\n",
              "      <td>92700</td>\n",
              "      <td>1</td>\n",
              "      <td>11</td>\n",
              "    </tr>\n",
              "    <tr>\n",
              "      <th>4</th>\n",
              "      <td>1 allÃ©e Parc LagravÃ¨re</td>\n",
              "      <td>Colombes</td>\n",
              "      <td>0</td>\n",
              "      <td>92700</td>\n",
              "      <td>0</td>\n",
              "      <td>12</td>\n",
              "    </tr>\n",
              "    <tr>\n",
              "      <th>...</th>\n",
              "      <td>...</td>\n",
              "      <td>...</td>\n",
              "      <td>...</td>\n",
              "      <td>...</td>\n",
              "      <td>...</td>\n",
              "      <td>...</td>\n",
              "    </tr>\n",
              "    <tr>\n",
              "      <th>4613</th>\n",
              "      <td>Quai de SÃ¨vres</td>\n",
              "      <td>SÃ¨vres</td>\n",
              "      <td>0</td>\n",
              "      <td>92310</td>\n",
              "      <td>6</td>\n",
              "      <td>1</td>\n",
              "    </tr>\n",
              "    <tr>\n",
              "      <th>4614</th>\n",
              "      <td>Quai de SÃ¨vres</td>\n",
              "      <td>SÃ¨vres</td>\n",
              "      <td>0</td>\n",
              "      <td>92310</td>\n",
              "      <td>5</td>\n",
              "      <td>7</td>\n",
              "    </tr>\n",
              "    <tr>\n",
              "      <th>4615</th>\n",
              "      <td>Quai de SÃ¨vres</td>\n",
              "      <td>SÃ¨vres</td>\n",
              "      <td>1</td>\n",
              "      <td>92310</td>\n",
              "      <td>1</td>\n",
              "      <td>2</td>\n",
              "    </tr>\n",
              "    <tr>\n",
              "      <th>4616</th>\n",
              "      <td>Quai de SÃ¨vres</td>\n",
              "      <td>SÃ¨vres</td>\n",
              "      <td>0</td>\n",
              "      <td>92310</td>\n",
              "      <td>6</td>\n",
              "      <td>5</td>\n",
              "    </tr>\n",
              "    <tr>\n",
              "      <th>4617</th>\n",
              "      <td>Quai de SÃ¨vres</td>\n",
              "      <td>SÃ¨vres</td>\n",
              "      <td>0</td>\n",
              "      <td>92310</td>\n",
              "      <td>0</td>\n",
              "      <td>16</td>\n",
              "    </tr>\n",
              "  </tbody>\n",
              "</table>\n",
              "<p>4618 rows × 6 columns</p>\n",
              "</div>"
            ],
            "text/plain": [
              "                       address      city  ...  slots  hour\n",
              "0         1 allÃ©e de Gascogne  Nanterre  ...      0     9\n",
              "1     1 allÃ©e Parc LagravÃ¨re  Colombes  ...      4    22\n",
              "2     1 allÃ©e Parc LagravÃ¨re  Colombes  ...      2    16\n",
              "3     1 allÃ©e Parc LagravÃ¨re  Colombes  ...      1    11\n",
              "4     1 allÃ©e Parc LagravÃ¨re  Colombes  ...      0    12\n",
              "...                        ...       ...  ...    ...   ...\n",
              "4613           Quai de SÃ¨vres   SÃ¨vres  ...      6     1\n",
              "4614           Quai de SÃ¨vres   SÃ¨vres  ...      5     7\n",
              "4615           Quai de SÃ¨vres   SÃ¨vres  ...      1     2\n",
              "4616           Quai de SÃ¨vres   SÃ¨vres  ...      6     5\n",
              "4617           Quai de SÃ¨vres   SÃ¨vres  ...      0    16\n",
              "\n",
              "[4618 rows x 6 columns]"
            ]
          },
          "metadata": {
            "tags": []
          },
          "execution_count": 95
        }
      ]
    },
    {
      "cell_type": "code",
      "metadata": {
        "id": "BPO25ogHU9S4",
        "colab_type": "code",
        "outputId": "b87e5e35-ac86-4a65-befe-e3b1f6621831",
        "colab": {
          "base_uri": "https://localhost:8080/",
          "height": 51
        }
      },
      "source": [
        "# 1.What was the most popular hour of the day for picking up a shared electric car(Utilib) in the city of Paris over the Month of April\n",
        "ecars2[(ecars2['utilib_counter'] == 0) & (ecars2['city'] == 'Paris')]['hour'].value_counts().nlargest(1)"
      ],
      "execution_count": 96,
      "outputs": [
        {
          "output_type": "execute_result",
          "data": {
            "text/plain": [
              "21    125\n",
              "Name: hour, dtype: int64"
            ]
          },
          "metadata": {
            "tags": []
          },
          "execution_count": 96
        }
      ]
    },
    {
      "cell_type": "code",
      "metadata": {
        "id": "5EU55RI5g2l6",
        "colab_type": "code",
        "outputId": "fed96339-26da-405c-fb22-bc3ba1ffa31a",
        "colab": {
          "base_uri": "https://localhost:8080/",
          "height": 51
        }
      },
      "source": [
        "# 2. What is the most popular hour for returning cars\n",
        "ecars2[(ecars2['slots'] == 0)]['hour'].value_counts().nlargest(1)"
      ],
      "execution_count": 97,
      "outputs": [
        {
          "output_type": "execute_result",
          "data": {
            "text/plain": [
              "13    64\n",
              "Name: hour, dtype: int64"
            ]
          },
          "metadata": {
            "tags": []
          },
          "execution_count": 97
        }
      ]
    },
    {
      "cell_type": "code",
      "metadata": {
        "id": "2TOYH1PmhOFm",
        "colab_type": "code",
        "outputId": "8e0403f8-21e1-410f-81c4-123379a3e877",
        "colab": {
          "base_uri": "https://localhost:8080/",
          "height": 68
        }
      },
      "source": [
        "# 3. What station is the most popular. Overall?\n",
        "ecars.groupby(['address'])['address'].count().sort_values(ascending = False).head(1)"
      ],
      "execution_count": 99,
      "outputs": [
        {
          "output_type": "execute_result",
          "data": {
            "text/plain": [
              "address\n",
              "8 Avenue de la Porte de Montrouge    13\n",
              "Name: address, dtype: int64"
            ]
          },
          "metadata": {
            "tags": []
          },
          "execution_count": 99
        }
      ]
    },
    {
      "cell_type": "code",
      "metadata": {
        "id": "INobRglKh8gG",
        "colab_type": "code",
        "outputId": "4246b854-f465-4435-f76a-eb558a39db2b",
        "colab": {
          "base_uri": "https://localhost:8080/",
          "height": 80
        }
      },
      "source": [
        "# 3.1 What station is the most popular, at the most popular picking hour?\n",
        "ecars[(ecars['utilib_counter'] == 0) & (ecars['hour'].value_counts())].sort_values(by = 'hour')[['address','hour']].nlargest(1,'hour')"
      ],
      "execution_count": 100,
      "outputs": [
        {
          "output_type": "execute_result",
          "data": {
            "text/html": [
              "<div>\n",
              "<style scoped>\n",
              "    .dataframe tbody tr th:only-of-type {\n",
              "        vertical-align: middle;\n",
              "    }\n",
              "\n",
              "    .dataframe tbody tr th {\n",
              "        vertical-align: top;\n",
              "    }\n",
              "\n",
              "    .dataframe thead th {\n",
              "        text-align: right;\n",
              "    }\n",
              "</style>\n",
              "<table border=\"1\" class=\"dataframe\">\n",
              "  <thead>\n",
              "    <tr style=\"text-align: right;\">\n",
              "      <th></th>\n",
              "      <th>address</th>\n",
              "      <th>hour</th>\n",
              "    </tr>\n",
              "  </thead>\n",
              "  <tbody>\n",
              "    <tr>\n",
              "      <th>1</th>\n",
              "      <td>1 allÃ©e Parc LagravÃ¨re</td>\n",
              "      <td>22</td>\n",
              "    </tr>\n",
              "  </tbody>\n",
              "</table>\n",
              "</div>"
            ],
            "text/plain": [
              "                    address  hour\n",
              "1  1 allÃ©e Parc LagravÃ¨re    22"
            ]
          },
          "metadata": {
            "tags": []
          },
          "execution_count": 100
        }
      ]
    },
    {
      "cell_type": "code",
      "metadata": {
        "id": "pDItVhoi575t",
        "colab_type": "code",
        "outputId": "6ccf23e5-3f42-4f68-abfd-261bf04245be",
        "colab": {
          "base_uri": "https://localhost:8080/",
          "height": 68
        }
      },
      "source": [
        "# 4.0 What postal code is the most popular postal code, overall?\n",
        "ecars.groupby('postal_code')['postal_code'].count().nlargest(1)"
      ],
      "execution_count": 102,
      "outputs": [
        {
          "output_type": "execute_result",
          "data": {
            "text/plain": [
              "postal_code\n",
              "75015    249\n",
              "Name: postal_code, dtype: int64"
            ]
          },
          "metadata": {
            "tags": []
          },
          "execution_count": 102
        }
      ]
    },
    {
      "cell_type": "code",
      "metadata": {
        "id": "aoUOSO8T6TCd",
        "colab_type": "code",
        "outputId": "cc155bc9-dceb-4714-9e96-3436d448c073",
        "colab": {
          "base_uri": "https://localhost:8080/",
          "height": 68
        }
      },
      "source": [
        "# 4.0.1  Does the most popular station belong to that postal code\n",
        "ecars.groupby(['address','postal_code'])['postal_code'].count().sort_values(ascending =False).nlargest(1)"
      ],
      "execution_count": 103,
      "outputs": [
        {
          "output_type": "execute_result",
          "data": {
            "text/plain": [
              "address                            postal_code\n",
              "8 Avenue de la Porte de Montrouge  75014          13\n",
              "Name: postal_code, dtype: int64"
            ]
          },
          "metadata": {
            "tags": []
          },
          "execution_count": 103
        }
      ]
    },
    {
      "cell_type": "code",
      "metadata": {
        "id": "QhZyXWjX6fPm",
        "colab_type": "code",
        "outputId": "95861ead-b142-4dc1-e2e3-e3408edd5616",
        "colab": {
          "base_uri": "https://localhost:8080/",
          "height": 80
        }
      },
      "source": [
        "# 4.1 What postal code is the most popular postal code, at the most popular picking hour?\n",
        "ecars[(ecars['utilib_counter'] == 0)& (ecars['hour'].value_counts())][['postal_code','hour']].nlargest(1,'hour')"
      ],
      "execution_count": 104,
      "outputs": [
        {
          "output_type": "execute_result",
          "data": {
            "text/html": [
              "<div>\n",
              "<style scoped>\n",
              "    .dataframe tbody tr th:only-of-type {\n",
              "        vertical-align: middle;\n",
              "    }\n",
              "\n",
              "    .dataframe tbody tr th {\n",
              "        vertical-align: top;\n",
              "    }\n",
              "\n",
              "    .dataframe thead th {\n",
              "        text-align: right;\n",
              "    }\n",
              "</style>\n",
              "<table border=\"1\" class=\"dataframe\">\n",
              "  <thead>\n",
              "    <tr style=\"text-align: right;\">\n",
              "      <th></th>\n",
              "      <th>postal_code</th>\n",
              "      <th>hour</th>\n",
              "    </tr>\n",
              "  </thead>\n",
              "  <tbody>\n",
              "    <tr>\n",
              "      <th>1</th>\n",
              "      <td>92700</td>\n",
              "      <td>22</td>\n",
              "    </tr>\n",
              "  </tbody>\n",
              "</table>\n",
              "</div>"
            ],
            "text/plain": [
              "   postal_code  hour\n",
              "1        92700    22"
            ]
          },
          "metadata": {
            "tags": []
          },
          "execution_count": 104
        }
      ]
    },
    {
      "cell_type": "code",
      "metadata": {
        "id": "NNEcmOvU6wX8",
        "colab_type": "code",
        "outputId": "9f54fdb4-7cb7-4aed-9487-8a715d6102da",
        "colab": {
          "base_uri": "https://localhost:8080/",
          "height": 80
        }
      },
      "source": [
        "# 4.1.1  Does the most popular station belong to that postal code\n",
        "ecars[(ecars['utilib_counter'] == 0)& (ecars['hour'].value_counts())][['address','postal_code','hour']].nlargest(1,'hour')"
      ],
      "execution_count": 105,
      "outputs": [
        {
          "output_type": "execute_result",
          "data": {
            "text/html": [
              "<div>\n",
              "<style scoped>\n",
              "    .dataframe tbody tr th:only-of-type {\n",
              "        vertical-align: middle;\n",
              "    }\n",
              "\n",
              "    .dataframe tbody tr th {\n",
              "        vertical-align: top;\n",
              "    }\n",
              "\n",
              "    .dataframe thead th {\n",
              "        text-align: right;\n",
              "    }\n",
              "</style>\n",
              "<table border=\"1\" class=\"dataframe\">\n",
              "  <thead>\n",
              "    <tr style=\"text-align: right;\">\n",
              "      <th></th>\n",
              "      <th>address</th>\n",
              "      <th>postal_code</th>\n",
              "      <th>hour</th>\n",
              "    </tr>\n",
              "  </thead>\n",
              "  <tbody>\n",
              "    <tr>\n",
              "      <th>1</th>\n",
              "      <td>1 allÃ©e Parc LagravÃ¨re</td>\n",
              "      <td>92700</td>\n",
              "      <td>22</td>\n",
              "    </tr>\n",
              "  </tbody>\n",
              "</table>\n",
              "</div>"
            ],
            "text/plain": [
              "                    address  postal_code  hour\n",
              "1  1 allÃ©e Parc LagravÃ¨re        92700    22"
            ]
          },
          "metadata": {
            "tags": []
          },
          "execution_count": 105
        }
      ]
    },
    {
      "cell_type": "markdown",
      "metadata": {
        "id": "85wLUws871hv",
        "colab_type": "text"
      },
      "source": [
        "### **Utilib** **1.4** "
      ]
    },
    {
      "cell_type": "code",
      "metadata": {
        "id": "pHsjgnullkDj",
        "colab_type": "code",
        "colab": {
          "base_uri": "https://localhost:8080/",
          "height": 419
        },
        "outputId": "06344a6c-1ee2-4a78-c5ae-821d24964fa2"
      },
      "source": [
        "ecars3 = ecars[['city','address','utilib_1.4_counter','slots','postal_code','hour']]\n",
        "ecars3"
      ],
      "execution_count": 107,
      "outputs": [
        {
          "output_type": "execute_result",
          "data": {
            "text/html": [
              "<div>\n",
              "<style scoped>\n",
              "    .dataframe tbody tr th:only-of-type {\n",
              "        vertical-align: middle;\n",
              "    }\n",
              "\n",
              "    .dataframe tbody tr th {\n",
              "        vertical-align: top;\n",
              "    }\n",
              "\n",
              "    .dataframe thead th {\n",
              "        text-align: right;\n",
              "    }\n",
              "</style>\n",
              "<table border=\"1\" class=\"dataframe\">\n",
              "  <thead>\n",
              "    <tr style=\"text-align: right;\">\n",
              "      <th></th>\n",
              "      <th>city</th>\n",
              "      <th>address</th>\n",
              "      <th>utilib_1.4_counter</th>\n",
              "      <th>slots</th>\n",
              "      <th>postal_code</th>\n",
              "      <th>hour</th>\n",
              "    </tr>\n",
              "  </thead>\n",
              "  <tbody>\n",
              "    <tr>\n",
              "      <th>0</th>\n",
              "      <td>Nanterre</td>\n",
              "      <td>1 allÃ©e de Gascogne</td>\n",
              "      <td>0</td>\n",
              "      <td>0</td>\n",
              "      <td>92000</td>\n",
              "      <td>9</td>\n",
              "    </tr>\n",
              "    <tr>\n",
              "      <th>1</th>\n",
              "      <td>Colombes</td>\n",
              "      <td>1 allÃ©e Parc LagravÃ¨re</td>\n",
              "      <td>0</td>\n",
              "      <td>4</td>\n",
              "      <td>92700</td>\n",
              "      <td>22</td>\n",
              "    </tr>\n",
              "    <tr>\n",
              "      <th>2</th>\n",
              "      <td>Colombes</td>\n",
              "      <td>1 allÃ©e Parc LagravÃ¨re</td>\n",
              "      <td>1</td>\n",
              "      <td>2</td>\n",
              "      <td>92700</td>\n",
              "      <td>16</td>\n",
              "    </tr>\n",
              "    <tr>\n",
              "      <th>3</th>\n",
              "      <td>Colombes</td>\n",
              "      <td>1 allÃ©e Parc LagravÃ¨re</td>\n",
              "      <td>0</td>\n",
              "      <td>1</td>\n",
              "      <td>92700</td>\n",
              "      <td>11</td>\n",
              "    </tr>\n",
              "    <tr>\n",
              "      <th>4</th>\n",
              "      <td>Colombes</td>\n",
              "      <td>1 allÃ©e Parc LagravÃ¨re</td>\n",
              "      <td>0</td>\n",
              "      <td>0</td>\n",
              "      <td>92700</td>\n",
              "      <td>12</td>\n",
              "    </tr>\n",
              "    <tr>\n",
              "      <th>...</th>\n",
              "      <td>...</td>\n",
              "      <td>...</td>\n",
              "      <td>...</td>\n",
              "      <td>...</td>\n",
              "      <td>...</td>\n",
              "      <td>...</td>\n",
              "    </tr>\n",
              "    <tr>\n",
              "      <th>4613</th>\n",
              "      <td>SÃ¨vres</td>\n",
              "      <td>Quai de SÃ¨vres</td>\n",
              "      <td>0</td>\n",
              "      <td>6</td>\n",
              "      <td>92310</td>\n",
              "      <td>1</td>\n",
              "    </tr>\n",
              "    <tr>\n",
              "      <th>4614</th>\n",
              "      <td>SÃ¨vres</td>\n",
              "      <td>Quai de SÃ¨vres</td>\n",
              "      <td>0</td>\n",
              "      <td>5</td>\n",
              "      <td>92310</td>\n",
              "      <td>7</td>\n",
              "    </tr>\n",
              "    <tr>\n",
              "      <th>4615</th>\n",
              "      <td>SÃ¨vres</td>\n",
              "      <td>Quai de SÃ¨vres</td>\n",
              "      <td>0</td>\n",
              "      <td>1</td>\n",
              "      <td>92310</td>\n",
              "      <td>2</td>\n",
              "    </tr>\n",
              "    <tr>\n",
              "      <th>4616</th>\n",
              "      <td>SÃ¨vres</td>\n",
              "      <td>Quai de SÃ¨vres</td>\n",
              "      <td>0</td>\n",
              "      <td>6</td>\n",
              "      <td>92310</td>\n",
              "      <td>5</td>\n",
              "    </tr>\n",
              "    <tr>\n",
              "      <th>4617</th>\n",
              "      <td>SÃ¨vres</td>\n",
              "      <td>Quai de SÃ¨vres</td>\n",
              "      <td>0</td>\n",
              "      <td>0</td>\n",
              "      <td>92310</td>\n",
              "      <td>16</td>\n",
              "    </tr>\n",
              "  </tbody>\n",
              "</table>\n",
              "<p>4618 rows × 6 columns</p>\n",
              "</div>"
            ],
            "text/plain": [
              "          city                   address  ...  postal_code  hour\n",
              "0     Nanterre      1 allÃ©e de Gascogne  ...        92000     9\n",
              "1     Colombes  1 allÃ©e Parc LagravÃ¨re  ...        92700    22\n",
              "2     Colombes  1 allÃ©e Parc LagravÃ¨re  ...        92700    16\n",
              "3     Colombes  1 allÃ©e Parc LagravÃ¨re  ...        92700    11\n",
              "4     Colombes  1 allÃ©e Parc LagravÃ¨re  ...        92700    12\n",
              "...        ...                       ...  ...          ...   ...\n",
              "4613   SÃ¨vres           Quai de SÃ¨vres  ...        92310     1\n",
              "4614   SÃ¨vres           Quai de SÃ¨vres  ...        92310     7\n",
              "4615   SÃ¨vres           Quai de SÃ¨vres  ...        92310     2\n",
              "4616   SÃ¨vres           Quai de SÃ¨vres  ...        92310     5\n",
              "4617   SÃ¨vres           Quai de SÃ¨vres  ...        92310    16\n",
              "\n",
              "[4618 rows x 6 columns]"
            ]
          },
          "metadata": {
            "tags": []
          },
          "execution_count": 107
        }
      ]
    },
    {
      "cell_type": "code",
      "metadata": {
        "id": "P2jpVqEl64AN",
        "colab_type": "code",
        "outputId": "49dd3520-9436-4841-ac7a-5957cbce6b17",
        "colab": {
          "base_uri": "https://localhost:8080/",
          "height": 51
        }
      },
      "source": [
        "# 1.What was the most popular hour of the day for picking up a shared electric car(Utilib 1.4) in the city of Paris over the Month of April\n",
        "ecars3[(ecars3['utilib_1.4_counter'] == 0) & (ecars3['city'] == 'Paris')]['hour'].value_counts().nlargest(1)"
      ],
      "execution_count": 113,
      "outputs": [
        {
          "output_type": "execute_result",
          "data": {
            "text/plain": [
              "21    114\n",
              "Name: hour, dtype: int64"
            ]
          },
          "metadata": {
            "tags": []
          },
          "execution_count": 113
        }
      ]
    },
    {
      "cell_type": "code",
      "metadata": {
        "id": "VTwYVJlh-piG",
        "colab_type": "code",
        "outputId": "1fc44cfd-b15f-4501-da31-f9a9f0df2aa2",
        "colab": {
          "base_uri": "https://localhost:8080/",
          "height": 119
        }
      },
      "source": [
        "# 2. What is the most popular hour for returning cars\n",
        "ecars3[ecars3['slots'] == 0]['hour'].value_counts().nlargest()"
      ],
      "execution_count": 114,
      "outputs": [
        {
          "output_type": "execute_result",
          "data": {
            "text/plain": [
              "13    64\n",
              "9     64\n",
              "6     63\n",
              "7     62\n",
              "5     62\n",
              "Name: hour, dtype: int64"
            ]
          },
          "metadata": {
            "tags": []
          },
          "execution_count": 114
        }
      ]
    },
    {
      "cell_type": "code",
      "metadata": {
        "id": "F0tq0MlWA6kL",
        "colab_type": "code",
        "outputId": "3976d4ff-6594-4cfd-f46c-dd0abdb69b6f",
        "colab": {
          "base_uri": "https://localhost:8080/",
          "height": 136
        }
      },
      "source": [
        "# 3. What station is the most popular. Overall?\n",
        "ecars3['utilib_1.4_counter'].groupby(ecars3['address']).count().sort_values(ascending = False).nlargest()"
      ],
      "execution_count": 115,
      "outputs": [
        {
          "output_type": "execute_result",
          "data": {
            "text/plain": [
              "address\n",
              "8 Avenue de la Porte de Montrouge    13\n",
              "35 rue Mathis                        11\n",
              "1 Rue de WolfenbÃ¼ttel               11\n",
              "182 Boulevard Voltaire               11\n",
              "69 Rue de Courcelles                 11\n",
              "Name: utilib_1.4_counter, dtype: int64"
            ]
          },
          "metadata": {
            "tags": []
          },
          "execution_count": 115
        }
      ]
    },
    {
      "cell_type": "code",
      "metadata": {
        "id": "llyOiU8xBDGe",
        "colab_type": "code",
        "outputId": "e2cfd5e3-c0a7-4e00-b4c3-445c58fff555",
        "colab": {
          "base_uri": "https://localhost:8080/",
          "height": 359
        }
      },
      "source": [
        "# 3.1 What station is the most popular, at the most popular picking hour?\n",
        "ecars3[(ecars['utilib_1.4_counter'] == 0) & (ecars3['hour'].value_counts())].sort_values(by = 'hour',ascending = False)[['address','hour']]"
      ],
      "execution_count": 119,
      "outputs": [
        {
          "output_type": "execute_result",
          "data": {
            "text/html": [
              "<div>\n",
              "<style scoped>\n",
              "    .dataframe tbody tr th:only-of-type {\n",
              "        vertical-align: middle;\n",
              "    }\n",
              "\n",
              "    .dataframe tbody tr th {\n",
              "        vertical-align: top;\n",
              "    }\n",
              "\n",
              "    .dataframe thead th {\n",
              "        text-align: right;\n",
              "    }\n",
              "</style>\n",
              "<table border=\"1\" class=\"dataframe\">\n",
              "  <thead>\n",
              "    <tr style=\"text-align: right;\">\n",
              "      <th></th>\n",
              "      <th>address</th>\n",
              "      <th>hour</th>\n",
              "    </tr>\n",
              "  </thead>\n",
              "  <tbody>\n",
              "    <tr>\n",
              "      <th>1</th>\n",
              "      <td>1 allÃ©e Parc LagravÃ¨re</td>\n",
              "      <td>22</td>\n",
              "    </tr>\n",
              "    <tr>\n",
              "      <th>6</th>\n",
              "      <td>1 avenue Ãmile Laurent</td>\n",
              "      <td>21</td>\n",
              "    </tr>\n",
              "    <tr>\n",
              "      <th>13</th>\n",
              "      <td>1 avenue Anatole France</td>\n",
              "      <td>21</td>\n",
              "    </tr>\n",
              "    <tr>\n",
              "      <th>9</th>\n",
              "      <td>1 avenue Ãmile Laurent</td>\n",
              "      <td>20</td>\n",
              "    </tr>\n",
              "    <tr>\n",
              "      <th>20</th>\n",
              "      <td>1 avenue du GÃ©nÃ©ral de Gaulle</td>\n",
              "      <td>20</td>\n",
              "    </tr>\n",
              "    <tr>\n",
              "      <th>11</th>\n",
              "      <td>1 avenue Ãmile Laurent</td>\n",
              "      <td>14</td>\n",
              "    </tr>\n",
              "    <tr>\n",
              "      <th>14</th>\n",
              "      <td>1 avenue Anatole France</td>\n",
              "      <td>14</td>\n",
              "    </tr>\n",
              "    <tr>\n",
              "      <th>0</th>\n",
              "      <td>1 allÃ©e de Gascogne</td>\n",
              "      <td>9</td>\n",
              "    </tr>\n",
              "    <tr>\n",
              "      <th>21</th>\n",
              "      <td>1 avenue du GÃ©nÃ©ral de Gaulle</td>\n",
              "      <td>9</td>\n",
              "    </tr>\n",
              "    <tr>\n",
              "      <th>22</th>\n",
              "      <td>1 Avenue du GÃ©nÃ©ral GalliÃ©ni</td>\n",
              "      <td>6</td>\n",
              "    </tr>\n",
              "  </tbody>\n",
              "</table>\n",
              "</div>"
            ],
            "text/plain": [
              "                            address  hour\n",
              "1          1 allÃ©e Parc LagravÃ¨re    22\n",
              "6           1 avenue Ãmile Laurent    21\n",
              "13          1 avenue Anatole France    21\n",
              "9           1 avenue Ãmile Laurent    20\n",
              "20  1 avenue du GÃ©nÃ©ral de Gaulle    20\n",
              "11          1 avenue Ãmile Laurent    14\n",
              "14          1 avenue Anatole France    14\n",
              "0              1 allÃ©e de Gascogne     9\n",
              "21  1 avenue du GÃ©nÃ©ral de Gaulle     9\n",
              "22  1 Avenue du GÃ©nÃ©ral GalliÃ©ni     6"
            ]
          },
          "metadata": {
            "tags": []
          },
          "execution_count": 119
        }
      ]
    },
    {
      "cell_type": "code",
      "metadata": {
        "id": "pqYoL2Q6BJBX",
        "colab_type": "code",
        "outputId": "328b5ef3-d8be-452b-ea69-9e066fd0f075",
        "colab": {
          "base_uri": "https://localhost:8080/",
          "height": 136
        }
      },
      "source": [
        "# 4.0 What postal code is the most popular postal code, overall?\n",
        "ecars.groupby('postal_code')['postal_code'].count().nlargest()"
      ],
      "execution_count": 120,
      "outputs": [
        {
          "output_type": "execute_result",
          "data": {
            "text/plain": [
              "postal_code\n",
              "75015    249\n",
              "75016    222\n",
              "75017    213\n",
              "75011    173\n",
              "75013    165\n",
              "Name: postal_code, dtype: int64"
            ]
          },
          "metadata": {
            "tags": []
          },
          "execution_count": 120
        }
      ]
    },
    {
      "cell_type": "code",
      "metadata": {
        "id": "GpKU1ozzBVjw",
        "colab_type": "code",
        "outputId": "fa1ec96d-64b3-4b10-9e0c-3630c084f6fa",
        "colab": {
          "base_uri": "https://localhost:8080/",
          "height": 68
        }
      },
      "source": [
        "# 4.0.1  Does the most popular station belong to that postal code\n",
        "ecars3.groupby(['address','postal_code'])['postal_code'].count().sort_values(ascending =False).nlargest(1)"
      ],
      "execution_count": 122,
      "outputs": [
        {
          "output_type": "execute_result",
          "data": {
            "text/plain": [
              "address                            postal_code\n",
              "8 Avenue de la Porte de Montrouge  75014          13\n",
              "Name: postal_code, dtype: int64"
            ]
          },
          "metadata": {
            "tags": []
          },
          "execution_count": 122
        }
      ]
    },
    {
      "cell_type": "code",
      "metadata": {
        "id": "0m_xhjyBBgPu",
        "colab_type": "code",
        "outputId": "c822f6bf-9bc8-4235-ea3c-de358115256e",
        "colab": {
          "base_uri": "https://localhost:8080/",
          "height": 80
        }
      },
      "source": [
        "# 4.1 What postal code is the most popular postal code, at the most popular picking hour?\n",
        "ecars3[(ecars3['utilib_1.4_counter'] == 0)& (ecars3['hour'].value_counts())][['postal_code','hour']].nlargest(1,'hour')"
      ],
      "execution_count": 123,
      "outputs": [
        {
          "output_type": "execute_result",
          "data": {
            "text/html": [
              "<div>\n",
              "<style scoped>\n",
              "    .dataframe tbody tr th:only-of-type {\n",
              "        vertical-align: middle;\n",
              "    }\n",
              "\n",
              "    .dataframe tbody tr th {\n",
              "        vertical-align: top;\n",
              "    }\n",
              "\n",
              "    .dataframe thead th {\n",
              "        text-align: right;\n",
              "    }\n",
              "</style>\n",
              "<table border=\"1\" class=\"dataframe\">\n",
              "  <thead>\n",
              "    <tr style=\"text-align: right;\">\n",
              "      <th></th>\n",
              "      <th>postal_code</th>\n",
              "      <th>hour</th>\n",
              "    </tr>\n",
              "  </thead>\n",
              "  <tbody>\n",
              "    <tr>\n",
              "      <th>1</th>\n",
              "      <td>92700</td>\n",
              "      <td>22</td>\n",
              "    </tr>\n",
              "  </tbody>\n",
              "</table>\n",
              "</div>"
            ],
            "text/plain": [
              "   postal_code  hour\n",
              "1        92700    22"
            ]
          },
          "metadata": {
            "tags": []
          },
          "execution_count": 123
        }
      ]
    },
    {
      "cell_type": "code",
      "metadata": {
        "id": "3whc-6UtCFOR",
        "colab_type": "code",
        "outputId": "44da5a26-e988-45f9-df94-a88f671be3e2",
        "colab": {
          "base_uri": "https://localhost:8080/",
          "height": 80
        }
      },
      "source": [
        "# 4.1.1  Does the most popular station belong to that postal code\n",
        "ecars3[(ecars3['utilib_1.4_counter'] == 0)& (ecars3['hour'].value_counts())][['address','postal_code','hour']].nlargest(1,'hour')"
      ],
      "execution_count": 124,
      "outputs": [
        {
          "output_type": "execute_result",
          "data": {
            "text/html": [
              "<div>\n",
              "<style scoped>\n",
              "    .dataframe tbody tr th:only-of-type {\n",
              "        vertical-align: middle;\n",
              "    }\n",
              "\n",
              "    .dataframe tbody tr th {\n",
              "        vertical-align: top;\n",
              "    }\n",
              "\n",
              "    .dataframe thead th {\n",
              "        text-align: right;\n",
              "    }\n",
              "</style>\n",
              "<table border=\"1\" class=\"dataframe\">\n",
              "  <thead>\n",
              "    <tr style=\"text-align: right;\">\n",
              "      <th></th>\n",
              "      <th>address</th>\n",
              "      <th>postal_code</th>\n",
              "      <th>hour</th>\n",
              "    </tr>\n",
              "  </thead>\n",
              "  <tbody>\n",
              "    <tr>\n",
              "      <th>1</th>\n",
              "      <td>1 allÃ©e Parc LagravÃ¨re</td>\n",
              "      <td>92700</td>\n",
              "      <td>22</td>\n",
              "    </tr>\n",
              "  </tbody>\n",
              "</table>\n",
              "</div>"
            ],
            "text/plain": [
              "                    address  postal_code  hour\n",
              "1  1 allÃ©e Parc LagravÃ¨re        92700    22"
            ]
          },
          "metadata": {
            "tags": []
          },
          "execution_count": 124
        }
      ]
    }
  ]
}